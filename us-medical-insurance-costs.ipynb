{
 "cells": [
  {
   "cell_type": "markdown",
   "metadata": {},
   "source": [
    "# U.S. Medical Insurance Costs"
   ]
  },
  {
   "cell_type": "markdown",
   "metadata": {},
   "source": [
    "I've been given a .csv full of insurance data in the following format:\n",
    "age, sex, bmi, children, smoker, region, charges\n",
    "\n",
    "**Goals**:\n",
    "Identify the different insurance costs for individuals, based on their age, sex, bmi, etc. Determine the marginal cost, for increasing in any of these areas.\n",
    "* Investigate the difference in prices between men and women\n",
    "    * Compare both women with children, and women without to men to determine if children is the main culprit for any cost varience\n",
    "    * Compare the women's cost for each additional child, and find the average increase per child.\n",
    "* How does BMI coorolate with insurance cost. Identify the marginal cost for each additional unit of BMI\n",
    "    * Men vs. Women\n",
    "    * Plot relationship and marginal cost increases\n",
    "    * *This might not be a linear relationship, if so maybe group by different \"tiers\" of BMI values*\n",
    "\n",
    "**Side Goals**:\n",
    "* Find the average age for women with X children.\n",
    "\n",
    "**Plan**:\n",
    "* Identify some basic facts about the data, and if it is a representative sample of the population:\n",
    "    * How many men vs. women\n",
    "    * Average age for Men vs. Women\n",
    "    * Where are they located\n",
    "    * Average amount of children\n",
    "    * Breakdown of smoker/non-smoker, breakdown by men and women\n",
    "    * Average BMI, average for both men and women\n",
    "* Begin analysis"
   ]
  },
  {
   "cell_type": "code",
   "execution_count": 46,
   "metadata": {
    "tags": []
   },
   "outputs": [],
   "source": [
    "import csv\n",
    "\n",
    "with open('insurance.csv', 'r') as insurance_data:\n",
    "    insurance_data_dict = csv.DictReader(insurance_data)\n",
    "    \n",
    "    # Grabbing Male and Female Data from Dict\n",
    "    male_insurance_data = []\n",
    "    female_insurance_data = []\n",
    "    for row in insurance_data_dict:\n",
    "        if row['sex'] == 'male':\n",
    "            male_insurance_data.append(row)\n",
    "        else:\n",
    "            female_insurance_data.append(row)"
   ]
  },
  {
   "cell_type": "code",
   "execution_count": 47,
   "metadata": {},
   "outputs": [
    {
     "output_type": "stream",
     "name": "stdout",
     "text": [
      "There are 676 men and 662 women in our data\nThe average age for men is 38.92, and the average for women is 39.5\n"
     ]
    },
    {
     "output_type": "error",
     "ename": "ValueError",
     "evalue": "I/O operation on closed file.",
     "traceback": [
      "\u001b[0;31m---------------------------------------------------------------------------\u001b[0m",
      "\u001b[0;31mValueError\u001b[0m                                Traceback (most recent call last)",
      "\u001b[0;32m<ipython-input-47-535c9094ac7a>\u001b[0m in \u001b[0;36m<module>\u001b[0;34m\u001b[0m\n\u001b[1;32m     36\u001b[0m             \u001b[0msw\u001b[0m \u001b[0;34m+=\u001b[0m \u001b[0;36m1\u001b[0m\u001b[0;34m\u001b[0m\u001b[0;34m\u001b[0m\u001b[0m\n\u001b[1;32m     37\u001b[0m     \u001b[0mprint\u001b[0m\u001b[0;34m(\u001b[0m\u001b[0;34m\"There are {ne} people in the north east, {nw} in the north west, {se} in the south east, {sw} in the south west\"\u001b[0m\u001b[0;34m.\u001b[0m\u001b[0mformat\u001b[0m\u001b[0;34m(\u001b[0m\u001b[0mne\u001b[0m \u001b[0;34m=\u001b[0m \u001b[0mne\u001b[0m\u001b[0;34m,\u001b[0m \u001b[0mnw\u001b[0m \u001b[0;34m=\u001b[0m \u001b[0mnw\u001b[0m\u001b[0;34m,\u001b[0m \u001b[0mse\u001b[0m \u001b[0;34m=\u001b[0m \u001b[0mse\u001b[0m\u001b[0;34m,\u001b[0m \u001b[0msw\u001b[0m \u001b[0;34m=\u001b[0m \u001b[0msw\u001b[0m\u001b[0;34m)\u001b[0m\u001b[0;34m)\u001b[0m\u001b[0;34m\u001b[0m\u001b[0;34m\u001b[0m\u001b[0m\n\u001b[0;32m---> 38\u001b[0;31m \u001b[0mlocation_counter\u001b[0m\u001b[0;34m(\u001b[0m\u001b[0minsurance_data_dict\u001b[0m\u001b[0;34m)\u001b[0m\u001b[0;34m\u001b[0m\u001b[0;34m\u001b[0m\u001b[0m\n\u001b[0m\u001b[1;32m     39\u001b[0m \u001b[0;34m\u001b[0m\u001b[0m\n\u001b[1;32m     40\u001b[0m \u001b[0;34m\u001b[0m\u001b[0m\n",
      "\u001b[0;32m<ipython-input-47-535c9094ac7a>\u001b[0m in \u001b[0;36mlocation_counter\u001b[0;34m(dict)\u001b[0m\n\u001b[1;32m     22\u001b[0m \u001b[0;31m# Where is everyone located?\u001b[0m\u001b[0;34m\u001b[0m\u001b[0;34m\u001b[0m\u001b[0;34m\u001b[0m\u001b[0m\n\u001b[1;32m     23\u001b[0m \u001b[0;32mdef\u001b[0m \u001b[0mlocation_counter\u001b[0m\u001b[0;34m(\u001b[0m\u001b[0mdict\u001b[0m\u001b[0;34m)\u001b[0m\u001b[0;34m:\u001b[0m\u001b[0;34m\u001b[0m\u001b[0;34m\u001b[0m\u001b[0m\n\u001b[0;32m---> 24\u001b[0;31m     \u001b[0;32mfor\u001b[0m \u001b[0mrow\u001b[0m \u001b[0;32min\u001b[0m \u001b[0mdict\u001b[0m\u001b[0;34m:\u001b[0m\u001b[0;34m\u001b[0m\u001b[0;34m\u001b[0m\u001b[0m\n\u001b[0m\u001b[1;32m     25\u001b[0m         \u001b[0mne\u001b[0m \u001b[0;34m=\u001b[0m \u001b[0;36m0\u001b[0m\u001b[0;34m\u001b[0m\u001b[0;34m\u001b[0m\u001b[0m\n\u001b[1;32m     26\u001b[0m         \u001b[0mnw\u001b[0m \u001b[0;34m=\u001b[0m \u001b[0;36m0\u001b[0m\u001b[0;34m\u001b[0m\u001b[0;34m\u001b[0m\u001b[0m\n",
      "\u001b[0;32m/opt/miniconda3/lib/python3.8/csv.py\u001b[0m in \u001b[0;36m__next__\u001b[0;34m(self)\u001b[0m\n\u001b[1;32m    109\u001b[0m             \u001b[0;31m# Used only for its side effect.\u001b[0m\u001b[0;34m\u001b[0m\u001b[0;34m\u001b[0m\u001b[0;34m\u001b[0m\u001b[0m\n\u001b[1;32m    110\u001b[0m             \u001b[0mself\u001b[0m\u001b[0;34m.\u001b[0m\u001b[0mfieldnames\u001b[0m\u001b[0;34m\u001b[0m\u001b[0;34m\u001b[0m\u001b[0m\n\u001b[0;32m--> 111\u001b[0;31m         \u001b[0mrow\u001b[0m \u001b[0;34m=\u001b[0m \u001b[0mnext\u001b[0m\u001b[0;34m(\u001b[0m\u001b[0mself\u001b[0m\u001b[0;34m.\u001b[0m\u001b[0mreader\u001b[0m\u001b[0;34m)\u001b[0m\u001b[0;34m\u001b[0m\u001b[0;34m\u001b[0m\u001b[0m\n\u001b[0m\u001b[1;32m    112\u001b[0m         \u001b[0mself\u001b[0m\u001b[0;34m.\u001b[0m\u001b[0mline_num\u001b[0m \u001b[0;34m=\u001b[0m \u001b[0mself\u001b[0m\u001b[0;34m.\u001b[0m\u001b[0mreader\u001b[0m\u001b[0;34m.\u001b[0m\u001b[0mline_num\u001b[0m\u001b[0;34m\u001b[0m\u001b[0;34m\u001b[0m\u001b[0m\n\u001b[1;32m    113\u001b[0m \u001b[0;34m\u001b[0m\u001b[0m\n",
      "\u001b[0;31mValueError\u001b[0m: I/O operation on closed file."
     ]
    }
   ],
   "source": [
    "# Lets start with some basic facts on our data\n",
    "# How many men and women are there in our data?\n",
    "number_of_men = len(male_insurance_data)\n",
    "number_of_women = len(female_insurance_data)\n",
    "print(\"There are {men} men and {women} women in our data\".format(men = number_of_men, women = number_of_women))\n",
    "\n",
    "# Whats the average age in our data?\n",
    "def average_age_calculator(dict):\n",
    "    age_sum = 0 \n",
    "    count = 0\n",
    "    str_holder = '' # I'm sure there is a better way to do this, but it works for now. \n",
    "    for row in dict:\n",
    "        str_holder = row['age']\n",
    "        age_sum += int(str_holder)\n",
    "        count += 1\n",
    "    return age_sum / count\n",
    "\n",
    "average_age_men = round(average_age_calculator(male_insurance_data), 2)\n",
    "average_age_women = round(average_age_calculator(female_insurance_data), 2)\n",
    "print(\"The average age for men is {male_average}, and the average for women is {female_average}\".format(male_average = average_age_men, female_average = average_age_women))\n",
    "\n",
    "# Where is everyone located?\n",
    "def location_counter(dict):\n",
    "    for row in dict:\n",
    "        ne = 0\n",
    "        nw = 0\n",
    "        se = 0\n",
    "        sw = 0\n",
    "        if dict['region'] == 'northeast':\n",
    "            ne += 1\n",
    "        elif dict['region'] == 'northwest':\n",
    "            nw += 1\n",
    "        elif dict['region'] == 'southeast':\n",
    "            se += 1\n",
    "        elif dict['region'] == 'southwest':\n",
    "            sw += 1\n",
    "    print(\"There are {ne} people in the north east, {nw} in the north west, {se} in the south east, {sw} in the south west\".format(ne = ne, nw = nw, se = se, sw = sw))\n",
    "location_counter(insurance_data_dict)\n",
    "    \n",
    "    "
   ]
  },
  {
   "cell_type": "code",
   "execution_count": null,
   "metadata": {},
   "outputs": [],
   "source": []
  }
 ],
 "metadata": {
  "kernelspec": {
   "display_name": "Python 3",
   "language": "python",
   "name": "python3"
  },
  "language_info": {
   "codemirror_mode": {
    "name": "ipython",
    "version": 3
   },
   "file_extension": ".py",
   "mimetype": "text/x-python",
   "name": "python",
   "nbconvert_exporter": "python",
   "pygments_lexer": "ipython3",
   "version": "3.8.5-final"
  }
 },
 "nbformat": 4,
 "nbformat_minor": 4
}