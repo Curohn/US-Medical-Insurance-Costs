{
 "cells": [
  {
   "cell_type": "markdown",
   "metadata": {},
   "source": [
    "# U.S. Medical Insurance Costs"
   ]
  },
  {
   "cell_type": "markdown",
   "metadata": {},
   "source": [
    "I've been given a .csv full of insurance data in the following format:\n",
    "age, sex, bmi, children, smoker, region, charges\n",
    "\n",
    "**Goals**:\n",
    "Identify the different insurance costs for individuals, based on their age, sex, bmi, etc. Determine the marginal cost, for increasing in any of these areas.\n",
    "* Investigate the difference in prices between men and women\n",
    "    * Compare both women with children, and women without to men to determine if children is the main culprit for any cost varience\n",
    "    * Compare the women's cost for each additional child, and find the average increase per child.\n",
    "* How does BMI coorolate with insurance cost. Identify the marginal cost for each additional unit of BMI\n",
    "    * Men vs. Women\n",
    "    * Plot relationship and marginal cost increases\n",
    "    * *This might not be a linear relationship, if so maybe group by different \"tiers\" of BMI values*\n",
    "\n",
    "**Side Goals**:\n",
    "* Find the average age for women with X children.\n",
    "\n",
    "**Plan**:\n",
    "* Identify some basic facts about the data, and if it is a representative sample of the population:\n",
    "    * How many men vs. women\n",
    "    * Average age for Men vs. Women\n",
    "    * Where are they located\n",
    "    * Average amount of children\n",
    "    * Breakdown of smoker/non-smoker, breakdown by men and women\n",
    "    * Average BMI, average for both men and women\n",
    "* Begin analysis"
   ]
  },
  {
   "cell_type": "code",
   "execution_count": 19,
   "metadata": {
    "tags": []
   },
   "outputs": [
    {
     "output_type": "error",
     "ename": "AttributeError",
     "evalue": "'DictReader' object has no attribute 'items'",
     "traceback": [
      "\u001b[0;31m---------------------------------------------------------------------------\u001b[0m",
      "\u001b[0;31mAttributeError\u001b[0m                            Traceback (most recent call last)",
      "\u001b[0;32m<ipython-input-19-2b759c24b869>\u001b[0m in \u001b[0;36m<module>\u001b[0;34m\u001b[0m\n\u001b[1;32m     27\u001b[0m         \u001b[0;32melse\u001b[0m\u001b[0;34m:\u001b[0m\u001b[0;34m\u001b[0m\u001b[0;34m\u001b[0m\u001b[0m\n\u001b[1;32m     28\u001b[0m             \u001b[0mcount_sw\u001b[0m\u001b[0;34m.\u001b[0m\u001b[0mappend\u001b[0m\u001b[0;34m(\u001b[0m\u001b[0mrow\u001b[0m\u001b[0;34m)\u001b[0m\u001b[0;34m\u001b[0m\u001b[0;34m\u001b[0m\u001b[0m\n\u001b[0;32m---> 29\u001b[0;31m     \u001b[0;32mfor\u001b[0m \u001b[0mkeys\u001b[0m\u001b[0;34m,\u001b[0m \u001b[0mvalues\u001b[0m \u001b[0;32min\u001b[0m \u001b[0minsurance_data_dict\u001b[0m\u001b[0;34m.\u001b[0m\u001b[0mitems\u001b[0m\u001b[0;34m(\u001b[0m\u001b[0;34m)\u001b[0m\u001b[0;34m:\u001b[0m\u001b[0;34m\u001b[0m\u001b[0;34m\u001b[0m\u001b[0m\n\u001b[0m\u001b[1;32m     30\u001b[0m        \u001b[0mprint\u001b[0m\u001b[0;34m(\u001b[0m\u001b[0mkeys\u001b[0m\u001b[0;34m)\u001b[0m\u001b[0;34m\u001b[0m\u001b[0;34m\u001b[0m\u001b[0m\n\u001b[1;32m     31\u001b[0m        \u001b[0mprint\u001b[0m\u001b[0;34m(\u001b[0m\u001b[0mvalues\u001b[0m\u001b[0;34m)\u001b[0m\u001b[0;34m\u001b[0m\u001b[0;34m\u001b[0m\u001b[0m\n",
      "\u001b[0;31mAttributeError\u001b[0m: 'DictReader' object has no attribute 'items'"
     ]
    }
   ],
   "source": [
    "import csv\n",
    "\n",
    "with open('insurance.csv', 'r') as insurance_data:\n",
    "    insurance_data_dict = csv.DictReader(insurance_data)\n",
    "    \n",
    "    # Grabbing Male and Female data from dict\n",
    "    male_insurance_data = []\n",
    "    female_insurance_data = []\n",
    "    for row in insurance_data_dict:\n",
    "        if row['sex'] == 'male':\n",
    "            male_insurance_data.append(row)\n",
    "        else:\n",
    "            female_insurance_data.append(row)\n",
    "    \n",
    "    # Grabbing location data from dict\n",
    "    count_sw = []\n",
    "    count_ne = []\n",
    "    count_nw = []\n",
    "    count_se = []\n",
    "    for row in insurance_data_dict:\n",
    "        if row['region'] == 'northeast':\n",
    "            count_ne.append(row)\n",
    "        elif row['region'] == 'northwest':\n",
    "            count_nw.append(row)\n",
    "        elif row['region'] == 'southeast':\n",
    "            count_se.append(row)\n",
    "        else:\n",
    "            count_sw.append(row)"
   ]
  },
  {
   "cell_type": "code",
   "execution_count": 16,
   "metadata": {},
   "outputs": [
    {
     "output_type": "stream",
     "name": "stdout",
     "text": [
      "There are 676 men and 662 women in our data\nThe average age for men is 38.92, and the average for women is 39.5\nThere are 0 people in the north east, 0 in the north west, 0 in the south east, 0 in the south west\n"
     ]
    }
   ],
   "source": [
    "# Lets start with some basic facts on our data\n",
    "# How many men and women are there in our data?\n",
    "number_of_men = len(male_insurance_data)\n",
    "number_of_women = len(female_insurance_data)\n",
    "print(\"There are {men} men and {women} women in our data\".format(men = number_of_men, women = number_of_women))\n",
    "\n",
    "# Whats the average age in our data?\n",
    "def average_age_calculator(dict):\n",
    "    age_sum = 0 \n",
    "    count = 0\n",
    "    str_holder = '' # I'm sure there is a better way to do this, but it works for now. \n",
    "    for row in dict:\n",
    "        str_holder = row['age']\n",
    "        age_sum += int(str_holder)\n",
    "        count += 1\n",
    "    return age_sum / count\n",
    "\n",
    "average_age_men = round(average_age_calculator(male_insurance_data), 2)\n",
    "average_age_women = round(average_age_calculator(female_insurance_data), 2)\n",
    "print(\"The average age for men is {male_average}, and the average for women is {female_average}\".format(male_average = average_age_men, female_average = average_age_women))\n",
    "\n",
    "# Where is everyone located?\n",
    "print(\"There are {ne} people in the north east, {nw} in the north west, {se} in the south east, {sw} in the south west\".format(ne = len(count_ne), nw = len(count_nw), se = len(count_se), sw = len(count_sw)))"
   ]
  },
  {
   "cell_type": "code",
   "execution_count": null,
   "metadata": {},
   "outputs": [],
   "source": []
  }
 ],
 "metadata": {
  "kernelspec": {
   "display_name": "Python 3",
   "language": "python",
   "name": "python3"
  },
  "language_info": {
   "codemirror_mode": {
    "name": "ipython",
    "version": 3
   },
   "file_extension": ".py",
   "mimetype": "text/x-python",
   "name": "python",
   "nbconvert_exporter": "python",
   "pygments_lexer": "ipython3",
   "version": "3.8.5-final"
  }
 },
 "nbformat": 4,
 "nbformat_minor": 4
}