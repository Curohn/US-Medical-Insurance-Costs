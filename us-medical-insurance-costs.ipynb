{
 "cells": [
  {
   "cell_type": "markdown",
   "metadata": {},
   "source": [
    "# U.S. Medical Insurance Costs"
   ]
  },
  {
   "cell_type": "markdown",
   "metadata": {},
   "source": [
    "I've been given a .csv full of insurance data in the following format:\n",
    "age, sex, bmi, children, smoker, region, charges\n",
    "\n",
    "**Goals**:\n",
    "Identify the different insurance costs for individuals, based on their age, sex, bmi, etc. Determine the marginal cost, for increasing in any of these areas.\n",
    "* Investigate the difference in prices between men and women\n",
    "    * Compare both women with children, and women without to men to determine if children is the main culprit for any cost varience\n",
    "    * Compare the women's cost for each additional child, and find the average increase per child.\n",
    "* How does BMI coorolate with insurance cost. Identify the marginal cost for each additional unit of BMI\n",
    "    * Men vs. Women\n",
    "    * Plot relationship and marginal cost increases\n",
    "    * *This might not be a linear relationship, if so maybe group by different \"tiers\" of BMI values*\n",
    "\n",
    "**Side Goals**:\n",
    "* Find the average age for women with X children.\n",
    "\n",
    "**Plan**:\n",
    "* Identify some basic facts about the data, and if it is a representative sample of the population:\n",
    "    * How many men vs. women\n",
    "    * Average age for Men vs. Women\n",
    "    * Where are they located\n",
    "    * Average amount of children\n",
    "    * Breakdown of smoker/non-smoker, breakdown by men and women\n",
    "    * Average BMI, average for both men and women\n",
    "* Begin analysis"
   ]
  },
  {
   "cell_type": "code",
   "execution_count": 1,
   "metadata": {},
   "outputs": [
    {
     "output_type": "error",
     "ename": "SyntaxError",
     "evalue": "unexpected EOF while parsing (<ipython-input-1-8318051ed4ac>, line 5)",
     "traceback": [
      "\u001b[0;36m  File \u001b[0;32m\"<ipython-input-1-8318051ed4ac>\"\u001b[0;36m, line \u001b[0;32m5\u001b[0m\n\u001b[0;31m    \u001b[0m\n\u001b[0m    ^\u001b[0m\n\u001b[0;31mSyntaxError\u001b[0m\u001b[0;31m:\u001b[0m unexpected EOF while parsing\n"
     ]
    }
   ],
   "source": [
    "import csv\n",
    "\n",
    "with open('insurance.csv', 'r') as insurance_data:\n",
    "    isurance_data_dict = csv.DictReader(insurance_data)\n",
    "    "
   ]
  }
 ],
 "metadata": {
  "kernelspec": {
   "display_name": "Python 3",
   "language": "python",
   "name": "python3"
  },
  "language_info": {
   "codemirror_mode": {
    "name": "ipython",
    "version": 3
   },
   "file_extension": ".py",
   "mimetype": "text/x-python",
   "name": "python",
   "nbconvert_exporter": "python",
   "pygments_lexer": "ipython3",
   "version": "3.8.5-final"
  }
 },
 "nbformat": 4,
 "nbformat_minor": 4
}